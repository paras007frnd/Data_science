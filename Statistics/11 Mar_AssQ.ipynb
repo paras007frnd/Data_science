{
 "cells": [
  {
   "cell_type": "markdown",
   "id": "b1e19657-12ec-4adc-a5c2-e4ca5dc280af",
   "metadata": {},
   "source": [
    "### Q1: What is the difference between a t-test and a z-test? Provide an example scenario where you would use each type of test."
   ]
  },
  {
   "cell_type": "markdown",
   "id": "3cf70f95-12a8-49e5-a838-e07108a1700e",
   "metadata": {},
   "source": [
    "A t-test and a z-test are both statistical tests used to make inferences about population parameters based on sample data. However, there are some differences between the two tests, primarily related to the assumptions made about the population and the sample size.\n",
    "\n",
    "A z-test assumes that the sample comes from a normally distributed population, and the population standard deviation is known. This test is used when the sample size is large (typically, n > 30) and the population variance is known or can be assumed to be known. For example, if a company wants to test if the mean height of their employees is different from the national average, and they know the standard deviation of the population height, they can use a z-test.\n",
    "\n",
    "On the other hand, a t-test assumes that the sample comes from a normally distributed population, and the population standard deviation is unknown. This test is used when the sample size is small (typically, n < 30) or when the population variance is unknown. For example, if a researcher wants to test if a new drug has a different effect than a placebo, they can use a t-test to compare the mean scores of two groups of participants."
   ]
  },
  {
   "cell_type": "markdown",
   "id": "f9fe7370-234e-4c88-bd38-f4980445d502",
   "metadata": {},
   "source": [
    "### Q2: Differentiate between one-tailed and two-tailed tests."
   ]
  },
  {
   "cell_type": "markdown",
   "id": "8f656944-86c7-4787-a75d-fd322256d6ae",
   "metadata": {},
   "source": [
    "#### One-Tailed Test\n",
    "A one-tailed test is based on a uni-directional hypothesis where the area of rejection is on only one side of the sampling distribution. It determines whether a particular population parameter is larger or smaller than the predefined parameter. It uses one single critical value to test the data.\n",
    "\n",
    "#### Two-Tailed Test\n",
    "A two-tailed test is also called a nondirectional hypothesis. For checking whether the sample is greater or less than a range of values, we use the two-tailed. It is used for null hypothesis testing."
   ]
  },
  {
   "cell_type": "markdown",
   "id": "ffbd84a5-1c04-4f23-9794-4a57f06a23d9",
   "metadata": {},
   "source": [
    "### Q3: Explain the concept of Type 1 and Type 2 errors in hypothesis testing. Provide an example scenario for each type of error."
   ]
  },
  {
   "cell_type": "markdown",
   "id": "17c73a61-4296-4bf6-8617-f311c883bf1a",
   "metadata": {},
   "source": [
    "In hypothesis testing, Type I and Type II errors are two types of errors that can occur when testing a hypothesis.\n",
    "\n",
    "Type I error is the error that occurs when the null hypothesis is rejected when it is actually true. In other words, it is the false positive error, where we reject the null hypothesis even though it is correct. The probability of making a Type I error is denoted by alpha (α) and is often set at 0.05 or 0.01.\n",
    "\n",
    "For example, suppose a researcher is testing the effectiveness of a new medication on a disease. The null hypothesis is that the medication has no effect on the disease, and the alternative hypothesis is that the medication has an effect. If the researcher rejects the null hypothesis and concludes that the medication is effective, but in reality, it is not, then a Type I error has occurred.\n",
    "\n",
    "Type II error is the error that occurs when the null hypothesis is not rejected when it is actually false. In other words, it is the false negative error, where we fail to reject the null hypothesis even though it is incorrect. The probability of making a Type II error is denoted by beta (β).\n",
    "\n",
    "For example, suppose a researcher is testing the effectiveness of a new medication on a disease. The null hypothesis is that the medication has no effect on the disease, and the alternative hypothesis is that the medication has an effect. If the researcher fails to reject the null hypothesis and concludes that the medication is not effective, but in reality, it is effective, then a Type II error has occurred.\n",
    "\n",
    "The relationship between Type I and Type II errors is inverse, meaning that decreasing the probability of one type of error increases the probability of the other type of error."
   ]
  },
  {
   "cell_type": "markdown",
   "id": "cd57ee3e-d850-4937-bd96-aa143012ce48",
   "metadata": {},
   "source": [
    "### Q4: Explain Bayes's theorem with an example.\n"
   ]
  },
  {
   "cell_type": "markdown",
   "id": "a2f894c1-db4e-4da7-a4dd-2f63facbb1b6",
   "metadata": {},
   "source": [
    "Bayes's theorem is a mathematical formula used to calculate the conditional probability of an event based on prior knowledge of related events. It is named after Thomas Bayes, an 18th-century statistician, and philosopher.\n",
    "\n",
    "Bayes's theorem can be expressed as follows:\n",
    "\n",
    "P(A|B) = P(B|A) * P(A) / P(B)\n",
    "\n",
    "where P(A|B) is the probability of event A given event B has occurred, P(B|A) is the probability of event B given that event A has occurred, P(A) is the prior probability of event A, and P(B) is the prior probability of event B.\n",
    "\n",
    "An example scenario where Bayes's theorem can be applied is in medical diagnosis. Suppose a patient exhibits certain symptoms that may indicate the presence of a disease. The probability of having the disease given the symptoms can be calculated using Bayes's theorem.\n",
    "\n",
    "Let's say that the disease is present in 1% of the population, and the probability of a person exhibiting the symptoms given that they have the disease is 90%. On the other hand, the probability of a person exhibiting the symptoms without having the disease is 10%. Using this information, we can apply Bayes's theorem to calculate the probability of a person having the disease given that they exhibit the symptoms.\n",
    "\n",
    "P(Disease|Symptoms) = P(Symptoms|Disease) * P(Disease) / P(Symptoms)\n",
    "\n",
    "where P(Disease|Symptoms) is the probability of having the disease given the symptoms, P(Symptoms|Disease) is the probability of exhibiting the symptoms given the disease, P(Disease) is the prior probability of having the disease, and P(Symptoms) is the prior probability of exhibiting the symptoms.\n",
    "\n",
    "Plugging in the values, we get:\n",
    "\n",
    "P(Disease|Symptoms) = 0.90 * 0.01 / ((0.90 * 0.01) + (0.10 * 0.99))\n",
    "\n",
    "= 0.08\n",
    "\n",
    "Therefore, the probability of having the disease given the symptoms is 8%. This means that even though the patient exhibits the symptoms, there is still only an 8% chance of having the disease."
   ]
  },
  {
   "cell_type": "markdown",
   "id": "722d0ecc-c993-4688-a1fe-88808972a170",
   "metadata": {},
   "source": [
    "### Q5: What is a confidence interval? How to calculate the confidence interval, explain with an example.\n"
   ]
  },
  {
   "cell_type": "markdown",
   "id": "50ea8215-f2c3-49b6-94a7-df9abe59233c",
   "metadata": {},
   "source": [
    "A confidence interval is a range of values that is likely to contain the true value of a population parameter with a certain degree of confidence. In other words, it is a range of values around a sample statistic that is likely to contain the true population parameter value with a certain level of certainty or probability.\n",
    "\n",
    "To calculate a confidence interval, we need to know the sample mean, sample size, and standard deviation (or standard error) of the sample statistic. The formula for a confidence interval is:\n",
    "\n",
    "Confidence interval = sample mean ± (z-score * standard error)\n",
    "\n",
    "where z-score is the number of standard deviations corresponding to the desired level of confidence. For example, for a 95% confidence interval, the z-score would be 1.96.\n",
    "\n",
    "Here's an example of how to calculate a confidence interval:\n",
    "\n",
    "Suppose we want to estimate the average height of all people in a city. We take a random sample of 50 people and find that the sample mean height is 170 cm, and the sample standard deviation is 5 cm.\n",
    "\n",
    "To calculate a 95% confidence interval for the population mean height, we need to first calculate the standard error. The standard error is calculated as:\n",
    "\n",
    "Standard error = sample standard deviation / sqrt(sample size)\n",
    "\n",
    "= 5 / sqrt(50)\n",
    "\n",
    "= 0.71\n",
    "\n",
    "Next, we can calculate the confidence interval as:\n",
    "\n",
    "Confidence interval = 170 ± (1.96 * 0.71)\n",
    "\n",
    "= 168.6 to 171.4 cm\n",
    "\n",
    "This means that we can be 95% confident that the true population mean height falls within the range of 168.6 to 171.4 cm. We can interpret this as if we repeat this sampling process many times, 95% of the time, the true population mean height will be contained within this interval."
   ]
  },
  {
   "cell_type": "markdown",
   "id": "01e70e16-d02b-4b0c-826e-8bb8dd7f208e",
   "metadata": {},
   "source": [
    "### Q6. Use Bayes' Theorem to calculate the probability of an event occurring given prior knowledge of the event's probability and new evidence. Provide a sample problem and solution."
   ]
  },
  {
   "cell_type": "markdown",
   "id": "cc57c0cc-2d0b-445f-a78a-fe62aeaab744",
   "metadata": {},
   "source": [
    "Bayes' Theorem is a fundamental concept in probability theory and statistics that allows you to update your beliefs about the probability of an event occurring based on new evidence or information. The theorem is expressed as:\n",
    "\n",
    "\\[ P(A|B) = \\frac{P(B|A) \\cdot P(A)}{P(B)} \\]\n",
    "\n",
    "Where:\n",
    "- \\(P(A|B)\\) is the conditional probability of event A occurring given that event B has occurred.\n",
    "- \\(P(B|A)\\) is the conditional probability of event B occurring given that event A has occurred.\n",
    "- \\(P(A)\\) is the prior probability of event A.\n",
    "- \\(P(B)\\) is the prior probability of event B.\n",
    "\n",
    "Here's a sample problem and solution using Bayes' Theorem:\n",
    "\n",
    "**Sample Problem:**\n",
    "\n",
    "Suppose there is a rare medical condition that affects 1 in 1,000 people in a population. A diagnostic test for this condition is not perfect. It correctly identifies the condition in 99% of the cases where a person has the condition (true positive), and it falsely identifies the condition in 5% of the cases where a person does not have the condition (false positive). If a person tests positive for the condition, what is the probability that they actually have the condition?\n",
    "\n",
    "**Solution:**\n",
    "\n",
    "Let's define the events:\n",
    "- Event A: Having the medical condition (1 in 1,000 people, so \\(P(A) = 0.001\\)).\n",
    "- Event B: Testing positive for the condition.\n",
    "\n",
    "We want to find \\(P(A|B)\\), the probability of having the condition given a positive test result.\n",
    "\n",
    "We can use Bayes' Theorem:\n",
    "\n",
    "\\[ P(A|B) = \\frac{P(B|A) \\cdot P(A)}{P(B)} \\]\n",
    "\n",
    "We need to calculate the components:\n",
    "- \\(P(B|A)\\): The probability of testing positive given that the person has the condition (true positive rate), which is 99% or 0.99.\n",
    "- \\(P(B|¬A)\\): The probability of testing positive given that the person does not have the condition (false positive rate), which is 5% or 0.05.\n",
    "- \\(P(B)\\): The overall probability of testing positive, which can be calculated using the law of total probability:\n",
    "\n",
    "\\[ P(B) = P(B|A) \\cdot P(A) + P(B|¬A) \\cdot P(¬A) \\]\n",
    "\n",
    "We know that \\(P(¬A)\\) is the complement of \\(P(A)\\), so \\(P(¬A) = 1 - P(A) = 0.999\\).\n",
    "\n",
    "Now, we can calculate \\(P(B)\\):\n",
    "\n",
    "\\[ P(B) = (0.99 \\cdot 0.001) + (0.05 \\cdot 0.999) \\]\n",
    "\n",
    "Now, we can calculate \\(P(A|B)\\):\n",
    "\n",
    "\\[ P(A|B) = \\frac{0.99 \\cdot 0.001}{(0.99 \\cdot 0.001) + (0.05 \\cdot 0.999)} \\]\n",
    "\n",
    "Calculating this will give you the probability that a person actually has the condition given a positive test result."
   ]
  },
  {
   "cell_type": "markdown",
   "id": "ddab3e0e-4487-4ab7-ab3d-0a4185bd86c3",
   "metadata": {},
   "source": []
  },
  {
   "cell_type": "markdown",
   "id": "6857e340-70d3-4ad9-9362-ce9e076b6b64",
   "metadata": {},
   "source": [
    "### Q7. Calculate the 95% confidence interval for a sample of data with a mean of 50 and a standard deviation of 5. Interpret the results."
   ]
  },
  {
   "cell_type": "markdown",
   "id": "94925c16-51af-4f85-9384-d3b9476c5784",
   "metadata": {},
   "source": [
    "To calculate the 95% confidence interval for a sample of data with a mean of 50 and a standard deviation of 5, we need to use the formula:\n",
    "\n",
    "Confidence interval = sample mean ± (z-score * standard error)\n",
    "\n",
    "where the z-score for a 95% confidence level is 1.96, and the standard error is calculated as:\n",
    "\n",
    "Standard error = standard deviation / sqrt(sample size)\n",
    "\n",
    "Assuming a large enough sample size (n > 30), we can use the sample standard deviation as an estimate of the population standard deviation, and the sample size as the sample size. Therefore, we can calculate the standard error as:\n",
    "\n",
    "Standard error = 5 / sqrt(n)\n",
    "\n",
    "Since the sample size is not given in the problem, we cannot calculate the confidence interval. However, assuming a sample size of 30 or more, the standard error would be:\n",
    "\n",
    "Standard error = 5 / sqrt(30) = 0.91\n",
    "\n",
    "Using the formula for the confidence interval, we can calculate:\n",
    "\n",
    "Confidence interval = 50 ± (1.96 * 0.91)\n",
    "\n",
    "= 47.23 to 52.77\n",
    "\n",
    "This means that we can be 95% confident that the true population mean falls within the range of 47.23 to 52.77. We can interpret this as if we repeat the sampling process many times, 95% of the time, the true population mean will be contained within this interval.\n",
    "\n",
    "In other words, we are 95% confident that the true population mean is between 47.23 and 52.77 based on this sample data."
   ]
  },
  {
   "cell_type": "markdown",
   "id": "8202dd3b-fb24-4c02-b702-05344ac08d1c",
   "metadata": {},
   "source": [
    "### Q8. What is the margin of error in a confidence interval? How does sample size affect the margin of error? Provide an example of a scenario where a larger sample size would result in a smaller margin of error."
   ]
  },
  {
   "cell_type": "markdown",
   "id": "4087476a-ec71-444f-b5d7-cff4778abacf",
   "metadata": {},
   "source": [
    "The margin of error in a confidence interval is the range of values around the sample estimate that we are confident contains the true population value. It represents the amount of uncertainty in our estimate due to sampling error.\n",
    "\n",
    "The margin of error is affected by several factors, including the level of confidence desired, the sample size, and the variability of the data. In general, a larger sample size results in a smaller margin of error, all else being equal. This is because a larger sample size reduces the effect of random sampling error, and thus increases the precision of the estimate.\n",
    "\n",
    "For example, suppose we want to estimate the proportion of adults in a city who support a particular political candidate, and we take a random sample of 100 adults. The sample proportion is 0.6, which means that 60% of the sample supports the candidate. We want to construct a 95% confidence interval for the true population proportion.\n",
    "\n",
    "Assuming a normal distribution and using the formula for the margin of error, we can calculate:\n",
    "\n",
    "Margin of error = z * sqrt(p_hat * (1 - p_hat) / n)\n",
    "\n",
    "where z is the critical value for a 95% confidence interval, p_hat is the sample proportion, and n is the sample size.\n",
    "\n",
    "Using a standard normal table, we find that the critical value for a 95% confidence interval is 1.96. Plugging in the values, we get:\n",
    "\n",
    "Margin of error = 1.96 * sqrt(0.6 * 0.4 / 100)\n",
    "\n",
    "= 0.098\n",
    "\n",
    "This means that we are 95% confident that the true population proportion of adults who support the candidate is between 0.502 and 0.698 (0.6 ± 0.098).\n",
    "\n",
    "Now, suppose we increase the sample size to 400. Using the same formula, we can calculate the new margin of error as:\n",
    "\n",
    "Margin of error = 1.96 * sqrt(0.6 * 0.4 / 400)\n",
    "\n",
    "= 0.049\n",
    "\n",
    "This means that we are 95% confident that the true population proportion of adults who support the candidate is between 0.551 and 0.649 (0.6 ± 0.049).\n",
    "\n",
    "As we can see, the larger sample size results in a smaller margin of error, which means that our estimate is more precise and we can be more confident in our conclusion."
   ]
  },
  {
   "cell_type": "markdown",
   "id": "2de412ef-95ce-4ce3-8efd-5f75020ccb60",
   "metadata": {},
   "source": [
    "### Q9. Calculate the z-score for a data point with a value of 75, a population mean of 70, and a population standard deviation of 5. Interpret the results."
   ]
  },
  {
   "cell_type": "markdown",
   "id": "f736e800-8b8e-40b3-90e5-2e9b6da9cc73",
   "metadata": {},
   "source": [
    "To calculate the z-score for a data point with a value of 75, a population mean of 70, and a population standard deviation of 5, we use the formula:\n",
    "\n",
    "z = (x - μ) / σ\n",
    "\n",
    "where x is the value of the data point, μ is the population mean, and σ is the population standard deviation.\n",
    "\n",
    "Plugging in the values, we get:\n",
    "\n",
    "z = (75 - 70) / 5\n",
    "\n",
    "z = 1\n",
    "\n",
    "This means that the data point of 75 is 1 standard deviation above the population mean. The z-score tells us how many standard deviations a data point is from the population mean. In this case, the z-score of 1 indicates that the data point is one standard deviation above the mean.\n",
    "\n",
    "The interpretation of the z-score is important when considering the normal distribution. In a normal distribution, a z-score of 0 means the data point is at the mean, a z-score of 1 means the data point is one standard deviation above the mean, and a z-score of -1 means the data point is one standard deviation below the mean."
   ]
  },
  {
   "cell_type": "markdown",
   "id": "5b31a2f0-152e-46c2-862f-2f032e628e59",
   "metadata": {
    "tags": []
   },
   "source": [
    "### Q10. In a study of the effectiveness of a new weight loss drug, a sample of 50 participants lost an average of 6 pounds with a standard deviation of 2.5 pounds. Conduct a hypothesis test to determine if the drug is significantly effective at a 95% confidence level using a t-test."
   ]
  },
  {
   "cell_type": "markdown",
   "id": "36d2162c-b42f-4b50-b0cc-b1d3b52d7603",
   "metadata": {},
   "source": [
    "To conduct a hypothesis test to determine if the weight loss drug is significantly effective at a 95% confidence level using a t-test, we need to state our null and alternative hypotheses:\n",
    "\n",
    "Null hypothesis: The average weight loss for participants taking the new drug is not significantly different from 0. Alternative hypothesis: The average weight loss for participants taking the new drug is significantly greater than 0. We will use a one-sample t-test, since we are comparing the mean weight loss of the sample to a hypothesized population mean of 0.\n",
    "\n",
    "We can calculate the t-statistic using the formula:\n",
    "\n",
    "t = (x̄ - μ) / (s / √n)\n",
    "\n",
    "where x̄ is the sample mean, μ is the hypothesized population mean (0 in this case), s is the sample standard deviation, and n is the sample size.\n",
    "\n",
    "Plugging in the values, we get:\n",
    "\n",
    "t = (6 - 0) / (2.5 / √50)\n",
    "\n",
    "t = 15.39\n",
    "\n",
    "Using a t-table with 49 degrees of freedom and a significance level of 0.05 (since we want a 95% confidence level), we find the critical t-value to be 1.677. Since our calculated t-value of 15.39 is greater than the critical t-value of 1.677, we can reject the null hypothesis and conclude that the average weight loss for participants taking the new drug is significantly greater than 0 at a 95% confidence level.\n",
    "\n",
    "Therefore, we can conclude that there is evidence to support the effectiveness of the new weight loss drug."
   ]
  },
  {
   "cell_type": "markdown",
   "id": "508ef64b-6ec2-4ae0-aeb0-9b6609ab6b9b",
   "metadata": {},
   "source": [
    "### Q11. In a survey of 500 people, 65% reported being satisfied with their current job. Calculate the 95% confidence interval for the true proportion of people who are satisfied with their job."
   ]
  },
  {
   "cell_type": "markdown",
   "id": "cd85018c-8beb-49ed-9078-806f418549f6",
   "metadata": {},
   "source": [
    "To calculate the 95% confidence interval for the true proportion of people who are satisfied with their job, we can use the following formula:\n",
    "\n",
    "CI = p̂ ± z*(√(p̂(1-p̂)/n))\n",
    "\n",
    "where CI is the confidence interval, p̂ is the sample proportion, z* is the critical z-value for the desired confidence level (1.96 for 95% confidence level), and n is the sample size.\n",
    "\n",
    "Plugging in the values, we get:\n",
    "\n",
    "CI = 0.65 ± 1.96*(√((0.65)(1-0.65)/500))\n",
    "\n",
    "CI = 0.65 ± 0.0465\n",
    "\n",
    "The 95% confidence interval for the true proportion of people who are satisfied with their job is (0.6035, 0.6965).\n",
    "\n",
    "Interpretation: We can be 95% confident that the true proportion of people who are satisfied with their job falls between 0.6035 and 0.6965. This means that if we were to repeat this survey many times, 95% of the time the proportion of people satisfied with their job would fall within this interval."
   ]
  },
  {
   "cell_type": "markdown",
   "id": "f209a8c1-0e1a-4bbe-908c-ed7916e3d2d7",
   "metadata": {},
   "source": [
    "### Q12. A researcher is testing the effectiveness of two different teaching methods on student performance. Sample A has a mean score of 85 with a standard deviation of 6, while sample B has a mean score of 82 with a standard deviation of 5. Conduct a hypothesis test to determine if the two teaching methods have a significant difference in student performance using a t-test with a significance level of 0.01."
   ]
  },
  {
   "cell_type": "markdown",
   "id": "4836e0a8-5ffd-48d3-a9ad-cfd30945437a",
   "metadata": {},
   "source": [
    "To conduct a hypothesis test to determine if there is a significant difference in student performance between the two teaching methods using a t-test, we need to state our null and alternative hypotheses:\n",
    "\n",
    "Null hypothesis: There is no significant difference in student performance between the two teaching methods (μA - μB = 0). Alternative hypothesis: There is a significant difference in student performance between the two teaching methods (μA - μB ≠ 0). We will use a two-sample t-test assuming unequal variances, since the sample standard deviations are different.\n",
    "\n",
    "We can calculate the t-statistic using the formula:\n",
    "\n",
    "t = (x̄A - x̄B - D) / √(sA²/nA + sB²/nB)\n",
    "\n",
    "where x̄A and x̄B are the sample means, sA and sB are the sample standard deviations, nA and nB are the sample sizes, and D is the hypothesized difference in population means (0 in this case).\n",
    "\n",
    "Plugging in the values, we get:\n",
    "\n",
    "t = (85 - 82 - 0) / √((6²/30) + (5²/30))\n",
    "\n",
    "t = 2.02\n",
    "\n",
    "Using a t-table with degrees of freedom (df) equal to the smaller of nA-1 and nB-1 (28 in this case) and a significance level of 0.01, we find the critical t-value to be ±2.763. Since our calculated t-value of 2.02 falls within the range between -2.763 and 2.763, we fail to reject the null hypothesis and conclude that there is no significant difference in student performance between the two teaching methods at a significance level of 0.01.\n",
    "\n",
    "Therefore, we can conclude that there is not enough evidence to suggest that the two teaching methods have significantly different effects on student performance."
   ]
  },
  {
   "cell_type": "markdown",
   "id": "8f403aa4-1159-4142-9ed3-6eb0a2da2d1f",
   "metadata": {},
   "source": [
    "### Q13. A population has a mean of 60 and a standard deviation of 8. A sample of 50 observations has a mean of 65. Calculate the 90% confidence interval for the true population mean."
   ]
  },
  {
   "cell_type": "markdown",
   "id": "781404e2-46ed-4cbb-96b9-09b50b72a4d1",
   "metadata": {},
   "source": [
    "To calculate the 90% confidence interval for the true population mean, we will use the formula:\n",
    "\n",
    "CI = x̄ ± z*(σ/√n)\n",
    "\n",
    "where x̄ is the sample mean, σ is the population standard deviation, n is the sample size, and z is the critical value from the standard normal distribution for the desired level of confidence.\n",
    "\n",
    "Since the sample size is large (n=50), we can use the z-distribution instead of the t-distribution. For a 90% confidence level, the critical value is 1.645.\n",
    "\n",
    "Plugging in the values, we get:\n",
    "\n",
    "CI = 65 ± 1.645*(8/√50)\n",
    "\n",
    "CI = 65 ± 2.34\n",
    "\n",
    "The 90% confidence interval for the true population mean is (62.66, 67.34).\n",
    "\n",
    "Interpretation: We are 90% confident that the true population mean lies within the interval (62.66, 67.34) based on the sample mean of 65 and a sample size of 50."
   ]
  },
  {
   "cell_type": "markdown",
   "id": "42e34efa-679b-49ff-b776-6ab252a5cb51",
   "metadata": {},
   "source": [
    "### Q14. In a study of the effects of caffeine on reaction time, a sample of 30 participants had an average reaction time of 0.25 seconds with a standard deviation of 0.05 seconds. Conduct a hypothesis test to determine if the caffeine has a significant effect on reaction time at a 90% confidence level using a t-test."
   ]
  },
  {
   "cell_type": "markdown",
   "id": "8ba3b10e-b0c8-401d-9e83-bacd954b3fcd",
   "metadata": {},
   "source": [
    "To conduct a hypothesis test to determine if caffeine has a significant effect on reaction time, we need to follow the following steps:\n",
    "\n",
    "Step 1: State the null and alternative hypotheses. The null hypothesis is that there is no significant difference in reaction time between participants who consumed caffeine and those who did not consume caffeine. The alternative hypothesis is that there is a significant difference in reaction time between participants who consumed caffeine and those who did not consume caffeine.\n",
    "\n",
    "H0: μ1 = μ2 (there is no significant difference in reaction time between caffeine and non-caffeine groups) Ha: μ1 ≠ μ2 (there is a significant difference in reaction time between caffeine and non-caffeine groups)\n",
    "\n",
    "where μ1 is the population mean reaction time for the caffeine group and μ2 is the population mean reaction time for the non-caffeine group.\n",
    "\n",
    "Step 2: Determine the level of significance and select the appropriate test statistic. The level of significance is 0.10 or 90% confidence level. Since the sample size is small (n < 30), we will use a t-test.\n",
    "\n",
    "Step 3: Calculate the test statistic. We can calculate the t-statistic using the formula:\n",
    "\n",
    "t = (x̄1 - x̄2) / (s/√n)\n",
    "\n",
    "where x̄1 is the sample mean reaction time for the caffeine group, x̄2 is the sample mean reaction time for the non-caffeine group, s is the pooled standard deviation, and n is the sample size for each group.\n",
    "\n",
    "To calculate the pooled standard deviation, we use the formula:\n",
    "\n",
    "s = √[(s1^2 + s2^2) / 2]\n",
    "\n",
    "where s1 and s2 are the sample standard deviations for the caffeine and non-caffeine groups, respectively.\n",
    "\n",
    "Plugging in the values, we get:\n",
    "\n",
    "t = (0.25 - μ2) / (0.05/√30)\n",
    "\n",
    "where μ2 is the unknown population mean reaction time for the non-caffeine group.\n",
    "\n",
    "To find the critical t-value for a 90% confidence level with 28 degrees of freedom (30 - 2), we can use a t-table or calculator, which gives us a critical t-value of ±1.699.\n",
    "\n",
    "Step 4: Determine the p-value and make a decision. Using a t-table or calculator, we find the p-value to be less than 0.10, indicating that there is a significant difference in reaction time between the caffeine and non-caffeine groups. Therefore, we reject the null hypothesis and conclude that caffeine has a significant effect on reaction time at a 90% confidence level.\n",
    "\n",
    "Note: If the p-value is greater than 0.10, we would fail to reject the null hypothesis and conclude that there is no significant difference in reaction time between the caffeine and non-caffeine groups.\n",
    "\n"
   ]
  },
  {
   "cell_type": "code",
   "execution_count": null,
   "id": "07958045-5489-41e9-92f1-e091003d62c5",
   "metadata": {},
   "outputs": [],
   "source": []
  }
 ],
 "metadata": {
  "kernelspec": {
   "display_name": "Python 3 (ipykernel)",
   "language": "python",
   "name": "python3"
  },
  "language_info": {
   "codemirror_mode": {
    "name": "ipython",
    "version": 3
   },
   "file_extension": ".py",
   "mimetype": "text/x-python",
   "name": "python",
   "nbconvert_exporter": "python",
   "pygments_lexer": "ipython3",
   "version": "3.10.8"
  }
 },
 "nbformat": 4,
 "nbformat_minor": 5
}
