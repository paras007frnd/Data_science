{
 "cells": [
  {
   "cell_type": "markdown",
   "id": "edba0ba4-c15d-45df-9079-53fd80e1d18b",
   "metadata": {},
   "source": [
    "### Q1. What are the three measures of central tendency?\n"
   ]
  },
  {
   "cell_type": "markdown",
   "id": "bfc15d8d-48a7-4b62-8294-d6aea69aa68a",
   "metadata": {},
   "source": [
    "#### Mean\n",
    "    The mean is the sum of the value of each observation in a dataset divided by the number of observations. This       is also known as the arithmetic average. \n",
    "#### Median\n",
    "    The median is the middle value in distribution when the values are arranged in ascending or descending order.\n",
    "#### Mode\n",
    "    The mode is the most commonly occurring value in a distribution."
   ]
  },
  {
   "cell_type": "markdown",
   "id": "cef019f9-8d6f-40b8-b6b7-9db8b4cd7657",
   "metadata": {},
   "source": [
    "### Q2. What is the difference between the mean, median, and mode? How are they used to measure the central tendency of a dataset?"
   ]
  },
  {
   "cell_type": "markdown",
   "id": "7028ebc7-37f5-4d9d-bfb8-5e3c3ab49709",
   "metadata": {
    "tags": []
   },
   "source": [
    "#### Mean:\n",
    "The average value of a given data set. You can calculate the mean by adding the numbers up and dividing by the number of numbers.\n",
    "\n",
    "#### Median: \n",
    "The middle value of the given set of data. You can calculate the median by ordering the numbers in an ascending order. If there are two numbers in the middle, you should take the average of those two numbers.\n",
    "\n",
    "#### Mode: \n",
    "The value repeated the highest number of times.\n"
   ]
  },
  {
   "cell_type": "markdown",
   "id": "89994b57-b9a2-4d69-b4de-0cf3cfcc1874",
   "metadata": {},
   "source": [
    "### Q3. Measure the three measures of central tendency for the given height data:\n",
    "[178,177,176,177,178.2,178,175,179,180,175,178.9,176.2,177,172.5,178,176.5]"
   ]
  },
  {
   "cell_type": "code",
   "execution_count": 7,
   "id": "79d7c961-b806-4f10-b79d-e335ac4f438f",
   "metadata": {},
   "outputs": [
    {
     "name": "stdout",
     "output_type": "stream",
     "text": [
      "Mean: 177.01875\n",
      "Median 177.0\n",
      "Mode 177.0\n"
     ]
    },
    {
     "name": "stderr",
     "output_type": "stream",
     "text": [
      "/tmp/ipykernel_134/590414349.py:12: FutureWarning: Unlike other reduction functions (e.g. `skew`, `kurtosis`), the default behavior of `mode` typically preserves the axis it acts along. In SciPy 1.11.0, this behavior will change: the default value of `keepdims` will become False, the `axis` over which the statistic is taken will be eliminated, and the value None will no longer be accepted. Set `keepdims` to True or False to avoid this warning.\n",
      "  mode = stats.mode(height)\n"
     ]
    }
   ],
   "source": [
    "import numpy as np\n",
    "from scipy import stats\n",
    "\n",
    "height = [178,177,176,177,178.2,178,175,179,180,175,178.9,176.2,177,172.5,178,176.5]\n",
    "\n",
    "mean = np.mean(height)\n",
    "print(\"Mean:\", mean)\n",
    "\n",
    "median = np.median(height)\n",
    "print(\"Median\", median)\n",
    "\n",
    "mode = stats.mode(height)\n",
    "print(\"Mode\",mode.mode[0])"
   ]
  },
  {
   "cell_type": "markdown",
   "id": "68b1423f-ccd0-4007-98ba-fc36c6ca9aa6",
   "metadata": {},
   "source": [
    "### Q4. Find the standard deviation for the given data:\n",
    "[178,177,176,177,178.2,178,175,179,180,175,178.9,176.2,177,172.5,178,176.5]"
   ]
  },
  {
   "cell_type": "code",
   "execution_count": 10,
   "id": "def07f2e-070f-4ebd-9f7d-b3cd374871a1",
   "metadata": {},
   "outputs": [
    {
     "name": "stdout",
     "output_type": "stream",
     "text": [
      "Standard deviation 1.7885814036548633\n"
     ]
    }
   ],
   "source": [
    "import numpy as np\n",
    "from scipy import stats\n",
    "\n",
    "height = [178,177,176,177,178.2,178,175,179,180,175,178.9,176.2,177,172.5,178,176.5]\n",
    "\n",
    "std = np.std(height)\n",
    "print(\"Standard deviation\",std)\n"
   ]
  },
  {
   "cell_type": "markdown",
   "id": "6f563178-edb9-4b00-98c3-4ca71852d4b9",
   "metadata": {},
   "source": [
    "### Q5. How are measures of dispersion such as range, variance, and standard deviation used to describe the spread of a dataset? Provide an example.\n",
    "       "
   ]
  },
  {
   "cell_type": "markdown",
   "id": "41b15203-df48-45aa-8c77-2d629e5c18b1",
   "metadata": {},
   "source": [
    "#### Range:\n",
    "\n",
    "Definition: The range is the simplest measure of dispersion and is calculated as the difference between the maximum and minimum values in the dataset.\n",
    "\n",
    "Use:  It gives an idea of the extent of the spread by indicating the span from the lowest to the highest data point.\n",
    "\n",
    "Example: Consider the heights of students in two different classrooms. Classroom A has a range of 20 cm (from 150 cm to 170 cm), while Classroom B has          a range of 10 cm (from 160 cm to 170 cm). In this case, Classroom A has a greater spread of heights compared to Classroom B.\n",
    "\n",
    "#### Variance:\n",
    "\n",
    "Definition: Variance measures the average squared deviation of each data point from the mean. It quantifies the overall spread of the data.\n",
    "\n",
    "Use: Variance provides a more comprehensive understanding of how the data points vary around the mean. A higher variance indicates greater variability.\n",
    "\n",
    "Example: Imagine two sets of exam scores for two different classes. Class X has a variance of 100, and Class Y has a variance of 400. Class Y has more variation in scores compared to Class X.\n",
    "\n",
    "#### Standard Deviation:\n",
    "\n",
    "Definition: The standard deviation is the square root of the variance. It is expressed in the same units as the original data.\n",
    "\n",
    "Use: It offers a measure of the average distance between each data point and the mean. A smaller standard deviation indicates that data points are closer to the mean, while a larger standard deviation suggests greater variability.\n",
    "\n",
    "Example: Suppose you have two datasets representing the travel times to work for two different routes. Route A has a standard deviation of 5 minutes, while Route B has a standard deviation of 15 minutes. Route B has more variability in travel times, with some days having significantly longer or shorter commute times."
   ]
  },
  {
   "cell_type": "markdown",
   "id": "4f3f93e4-c32c-4e20-b973-bc8fc2a136d6",
   "metadata": {},
   "source": [
    "### Q6. What is a Venn diagram?"
   ]
  },
  {
   "cell_type": "markdown",
   "id": "a9364ee7-e7b4-4760-9408-afb96b917be9",
   "metadata": {},
   "source": [
    "A Venn diagram is a graphical representation that illustrates the relationships and commonalities between different sets or groups. It consists of overlapping circles, each representing a set or a category, and the overlapping regions indicate the elements or items that belong to multiple sets. Venn diagrams are widely used to visually organize and understand the intersections and differences between various data groups."
   ]
  },
  {
   "cell_type": "markdown",
   "id": "bf37a4c5-5457-4cb2-bce3-2b1de6469228",
   "metadata": {},
   "source": [
    "### Q7. For the two given sets A = (2,3,4,5,6,7) & B = (0,2,6,8,10). Find:\n",
    "       (i) A intersection  B\n",
    "     (ii) A ⋃ B"
   ]
  },
  {
   "cell_type": "markdown",
   "id": "6770ce8d-6003-411b-ac2c-205346b422c5",
   "metadata": {},
   "source": [
    "i. A ∩ B = {2, 6}\n",
    "\n",
    "ii. A ⋃ B = {0, 2, 3, 4, 5, 6, 7, 8, 10}"
   ]
  },
  {
   "cell_type": "markdown",
   "id": "707d2497-3d05-42db-9200-a70db17628e6",
   "metadata": {},
   "source": [
    "### Q8. What do you understand about skewness in data?"
   ]
  },
  {
   "cell_type": "markdown",
   "id": "1909cb6b-4956-4d7b-8755-630163a7462c",
   "metadata": {},
   "source": [
    "Skewness is a measurement of the distortion of symmetrical distribution or asymmetry in a data set. Skewness is demonstrated on a bell curve when data points are not distributed symmetrically to the left and right sides of the median on a bell curve. If the bell curve is shifted to the left or the right, it is said to be skewed."
   ]
  },
  {
   "cell_type": "markdown",
   "id": "5cbcf4d3-441a-434c-bdfd-05ef1bc78fc5",
   "metadata": {},
   "source": [
    "### Q9. If a data is right skewed then what will be the position of median with respect to mean?"
   ]
  },
  {
   "cell_type": "markdown",
   "id": "82d547fc-d266-4582-ab89-4132ecbf9961",
   "metadata": {},
   "source": [
    "Mathematically, Mean > Median in a right-skewed distribution.\n",
    "This relationship between the mean and median in a right-skewed distribution is a general characteristic of positively skewed data. The mean is \"pulled\" toward the higher values by the presence of outliers or extreme values on the right side of the distribution."
   ]
  },
  {
   "cell_type": "markdown",
   "id": "d7137513-ec09-4cc1-9a1c-f1c446b7107a",
   "metadata": {},
   "source": [
    "### Q10. Explain the difference between covariance and correlation. How are these measures used in statistical analysis?"
   ]
  },
  {
   "cell_type": "markdown",
   "id": "3896160b-0363-4f92-b61e-af0d403e4093",
   "metadata": {},
   "source": [
    "Covariance:\n",
    "\n",
    "Definition: Covariance is a measure of how two variables vary together. It calculates the average of the product of the deviations of each variable from its mean.\n",
    "\n",
    "Useage:\n",
    "\n",
    "Covariance is used to understand the direction of the relationship between two variables and whether they move together or in opposite directions. It is often used in finance to assess the risk and return of assets.\n",
    "\n",
    "Correlation:\n",
    "\n",
    "Definition: Correlation is a standardized measure of the linear relationship between two variables. It normalizes the covariance by dividing it by the product of the standard deviations of the variables.\n",
    "\n",
    "Useage:\n",
    "\n",
    "Correlation is used to assess not only the direction but also the strength of the linear relationship between two variables. It is widely used in various fields, including economics, finance to measure and interpret associations between variables"
   ]
  },
  {
   "cell_type": "markdown",
   "id": "a8b78610-181f-48cd-bd9d-a20a5f6618ce",
   "metadata": {},
   "source": [
    "### Q11. What is the formula for calculating the sample mean? Provide an example calculation for a dataset."
   ]
  },
  {
   "cell_type": "markdown",
   "id": "2a5a4860-0078-4aa7-81a3-330a9ef9abfa",
   "metadata": {},
   "source": [
    "The formula for calculating the sample mean (average) of a dataset is as follows:\n",
    "\n",
    "Sample Mean = (Sum of all data points) / (Number of data points)\n",
    "\n",
    "Here's an example calculation for a dataset:\n",
    "\n",
    "Dataset: [85, 90, 78, 92, 88]\n",
    "\n",
    "Sum = 85 + 90 + 78 + 92 + 88 = 433\n",
    "\n",
    "Number of data points = 5\n",
    "\n",
    "Sample Mean = 433 / 5 = 86.6"
   ]
  },
  {
   "cell_type": "markdown",
   "id": "a8e7f55d-4876-4504-924d-01ef63d5f516",
   "metadata": {},
   "source": [
    "### Q12. For a normal distribution data what is the relationship between its measure of central tendency?\n"
   ]
  },
  {
   "cell_type": "markdown",
   "id": "33f316e7-71e6-4657-83ee-793ab1e41315",
   "metadata": {},
   "source": [
    "So if we have normal deistribustion of data in that case all mean median and mode are perfectly at same place that means \n",
    "\n",
    "mean = median = mode"
   ]
  },
  {
   "cell_type": "markdown",
   "id": "41f550da-82c7-4a6b-b2fd-5e2cd769bf54",
   "metadata": {},
   "source": [
    "### Q13. How is covariance different from correlation?"
   ]
  },
  {
   "cell_type": "markdown",
   "id": "5112ad39-8745-41b7-ac0d-a0a15f9b7a7e",
   "metadata": {},
   "source": [
    "Covariance tells us the direction of the relationship between two variables, while correlation provides an indication as to how strong the relationship between the two variables is, in addition to the direction of correlated variables. Correlation values range from +1 to -1."
   ]
  },
  {
   "cell_type": "markdown",
   "id": "93419657-e844-4a11-bab6-d3dd717b65fa",
   "metadata": {},
   "source": [
    "### Q14. How do outliers affect measures of central tendency and dispersion? Provide an example.\n"
   ]
  },
  {
   "cell_type": "markdown",
   "id": "c80567d5-5808-4442-b70f-7610469a3fba",
   "metadata": {},
   "source": [
    "### Central Tendency\n",
    "\n",
    "#### Mean\n",
    "\n",
    "Mean increases with the high outlier and decreases with the low outlier. Consider a small dataset having 5 values. The values in ascending order are a = [ 10,13,13,17,100] ,b = [ 10,13,13,17,20]\n",
    "\n",
    "From the above example,\n",
    "the mean of a =30.6  and b = 14.6\n",
    "\n",
    "that mean only by one outliear the change in mean is so high \n",
    "\n",
    "#### Median\n",
    "\n",
    "The median is less affected by outliers because it is not influenced by the magnitude of extreme values. It represents the middle value when data is sorted, so outliers have less impact on this measure.\n",
    "\n",
    " a = [ 10,13,13,17,100] ,b = [ 10,13,13,17,20]\n",
    " \n",
    "From the above example,\n",
    "the median of a = 13 and b = 13\n",
    "\n",
    "there is no change in median by outiear \n",
    "\n",
    "\n",
    "#### Mode\n",
    "\n",
    "Outliers generally have minimal impact on the mode because it represents the most frequent value(s) in the dataset. However, if there are multiple outliers that introduce new modes, it can affect the mode.\n",
    "\n",
    "a = [ 10,13,13,17,100] ,b = [ 10,13,13,17,20]\n",
    " \n",
    "From the above example,\n",
    "the median of a = 13 and b = 13\n",
    "\n",
    "there is no change in mode by outiear \n",
    "\n",
    "### Dispersion\n",
    "\n",
    "#### Variance and Standard Deviation\n",
    "\n",
    "   Outliers can substantially increase the variance and standard deviation because these measures consider how data points deviate from the mean. Outliers with large deviations contribute significantly to these measures.\n",
    "   \n",
    "   a = [ 10,13,13,17,100] ,b = [ 10,13,13,17,20]\n",
    "   \n",
    "So, for Dataset a:\n",
    "\n",
    "Variance = 801.128\n",
    "Standard Deviation = 28.31\n",
    "\n",
    "And for Dataset b:\n",
    "\n",
    "Variance ≈ 3.808\n",
    "Standard Deviation ≈ 1.952\n",
    "\n",
    "As we see how much differance is in data A and B so it is highly affeted by outliear\n",
    "   \n",
    "   \n",
    "#### Range\n",
    "\n",
    "Outliers can affect the range by expanding it. The range is the difference between the maximum and minimum values in a dataset, and outliers with extreme values can increase this difference.\n",
    "\n",
    "So, for Dataset a:\n",
    "\n",
    "Range = 90\n",
    "\n",
    "And for Dataset b:\n",
    "\n",
    "Range = 10\n",
    "\n",
    "\n",
    "As we see how much differance is in data A and B so it is highly affeted by outliear\n",
    "   \n",
    "\n",
    "\n",
    "\n"
   ]
  },
  {
   "cell_type": "code",
   "execution_count": null,
   "id": "d7726c4f-30be-4106-9c63-b4db5047f98f",
   "metadata": {},
   "outputs": [],
   "source": []
  }
 ],
 "metadata": {
  "kernelspec": {
   "display_name": "Python 3 (ipykernel)",
   "language": "python",
   "name": "python3"
  },
  "language_info": {
   "codemirror_mode": {
    "name": "ipython",
    "version": 3
   },
   "file_extension": ".py",
   "mimetype": "text/x-python",
   "name": "python",
   "nbconvert_exporter": "python",
   "pygments_lexer": "ipython3",
   "version": "3.10.8"
  },
  "toc-showcode": true
 },
 "nbformat": 4,
 "nbformat_minor": 5
}

